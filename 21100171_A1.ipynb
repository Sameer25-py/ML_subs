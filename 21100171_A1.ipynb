{
  "nbformat": 4,
  "nbformat_minor": 0,
  "metadata": {
    "colab": {
      "name": "ML_Ass1.ipynb",
      "provenance": [],
      "collapsed_sections": []
    },
    "kernelspec": {
      "display_name": "Python 3",
      "name": "python3"
    }
  },
  "cells": [
    {
      "cell_type": "code",
      "metadata": {
        "id": "BHRHRgZm6Md9"
      },
      "source": [
        "import pandas as pd\n",
        "import numpy as np\n",
        "import matplotlib as mp\n",
        "import re\n",
        "from scipy.spatial import distance\n",
        "from sklearn.neighbors import KNeighborsClassifier as knn_classifier\n",
        "from sklearn.metrics import accuracy_score\n",
        "from sklearn.metrics import classification_report\n",
        "from sklearn.metrics import confusion_matrix\n",
        "import matplotlib.pyplot as plt\n",
        "from gensim.models import KeyedVectors\n",
        "\n"
      ],
      "execution_count": 115,
      "outputs": []
    },
    {
      "cell_type": "markdown",
      "metadata": {
        "id": "3k9GrNJ2zc_i"
      },
      "source": [
        "# **Loading and Preprocessing**"
      ]
    },
    {
      "cell_type": "markdown",
      "metadata": {
        "id": "AH29T0iN7Cwp"
      },
      "source": [
        "**Loading Datasets and StopWords**\n"
      ]
    },
    {
      "cell_type": "code",
      "metadata": {
        "id": "O421V9_k7GOk"
      },
      "source": [
        "train_data = pd.read_csv('/content/drive/My Drive/ass1/train.csv')\n",
        "test_data = pd.read_csv('/content/drive/My Drive/ass1/test.csv')\n",
        "train_data = list(zip(train_data['Sentiment'],train_data['Tweet']))\n",
        "test_data = list(zip(test_data['Sentiment'],test_data['Tweet']))\n",
        "swords = []\n",
        "with open ('/content/drive/My Drive/ass1/stop_words.txt','r') as stop_words:\n",
        "  for x in stop_words:\n",
        "    swords.append(x.replace(\"\\n\",\"\"))"
      ],
      "execution_count": 116,
      "outputs": []
    },
    {
      "cell_type": "markdown",
      "metadata": {
        "id": "0PQcduWRw5RT"
      },
      "source": [
        "**PreProcessing**"
      ]
    },
    {
      "cell_type": "code",
      "metadata": {
        "cellView": "code",
        "id": "6hwv-RhZ8PiZ"
      },
      "source": [
        "def preprocessing(data):\n",
        "  inter_lst = []\n",
        "  for i,tup in enumerate(data):\n",
        "    #lower case\n",
        "    subject = data[i][1].lower()\n",
        "    #replace - with \" \"\n",
        "    subject = subject.replace('-',' ')\n",
        "    #removing everything tweet body containing only words\n",
        "    for j in subject.split():\n",
        "      z= re.match(r'[a-z]+',j) #((\\@|\\#)([a-z0-9]+)|([a-z]+))\n",
        "      if z and len(z.group())!=0 and z.group() not in swords and len(z.group()) > 3: #accept only those strings which are not empty, str length > 3 and not an element of stopwords list\n",
        "        y = z.group()\n",
        "        inter_lst.append(y)\n",
        "    data[i]= (data[i][0],inter_lst)  \n",
        "    inter_lst=[]            \n",
        "  return data\n",
        "filtered_train_data = preprocessing(train_data)\n",
        "filtered_test_data = preprocessing(test_data)\n"
      ],
      "execution_count": 117,
      "outputs": []
    },
    {
      "cell_type": "markdown",
      "metadata": {
        "id": "ZQqzFa5f-40i"
      },
      "source": [
        "**Metadata**\n"
      ]
    },
    {
      "cell_type": "code",
      "metadata": {
        "id": "wAdFn0IeTd4R",
        "outputId": "d0733a9e-7c6b-4baa-95e8-f90a0f66f07b",
        "colab": {
          "base_uri": "https://localhost:8080/",
          "height": 35
        }
      },
      "source": [
        "#vocab \n",
        "def get_train_vocab(data):\n",
        "  vocab = []\n",
        "  for i in data:\n",
        "    for j in i[1]:\n",
        "      if j not in vocab:\n",
        "        vocab.append(j)\n",
        "  return vocab\n",
        "\n",
        "def remove_unit_count(data,vocab):\n",
        "  #flattening all the train data\n",
        "  complete_text = []\n",
        "  for i in data:\n",
        "    for word in i[1]:\n",
        "      complete_text.append(word)\n",
        "\n",
        "  #remove all the words with 50 or lesser counts as this step increases the accuracy to almost 10%\n",
        "  \n",
        "  counts = 50\n",
        "  filter = []\n",
        "  for word in vocab:\n",
        "    if complete_text.count(word) <= counts:\n",
        "      filter.append(word)\n",
        "  return [v for v in vocab if v not in filter]\n",
        "\n",
        "train_vocab = remove_unit_count(filtered_train_data,get_train_vocab(filtered_train_data))\n",
        "len(train_vocab) - 1"
      ],
      "execution_count": 118,
      "outputs": [
        {
          "output_type": "execute_result",
          "data": {
            "text/plain": [
              "309"
            ]
          },
          "metadata": {
            "tags": []
          },
          "execution_count": 118
        }
      ]
    },
    {
      "cell_type": "markdown",
      "metadata": {
        "id": "BB4G9E4XYCpF"
      },
      "source": [
        "**Vocab to indexed Dictionary**"
      ]
    },
    {
      "cell_type": "code",
      "metadata": {
        "id": "wb_xeKY9YH1T"
      },
      "source": [
        "def vocab_to_dict(vocab):\n",
        "  vocab_dict = {}\n",
        "  #removing an empty index\n",
        "  if \"\" in vocab:\n",
        "    vocab.remove(\"\")\n",
        "  for i,word in enumerate(vocab):\n",
        "    vocab_dict[i] = word\n",
        "  return vocab_dict \n",
        "vocab_dict = vocab_to_dict(train_vocab)"
      ],
      "execution_count": 119,
      "outputs": []
    },
    {
      "cell_type": "markdown",
      "metadata": {
        "id": "ngyYgRYuIV-u"
      },
      "source": [
        "**Training and Testing Labels**"
      ]
    },
    {
      "cell_type": "code",
      "metadata": {
        "id": "LDqIaSrADArc"
      },
      "source": [
        "training_labels = []\n",
        "testing_labels = []\n",
        "predicted_labels = []\n",
        "for tup in filtered_train_data:\n",
        "  training_labels.append(tup[0])\n",
        "\n",
        "for tup in filtered_test_data:\n",
        "  testing_labels.append(tup[0])"
      ],
      "execution_count": 120,
      "outputs": []
    },
    {
      "cell_type": "markdown",
      "metadata": {
        "id": "JCVWo2O4U1a6"
      },
      "source": [
        "**Bag of Words**"
      ]
    },
    {
      "cell_type": "code",
      "metadata": {
        "id": "z7P2Zu2hU0zK"
      },
      "source": [
        "def create_feature_vectors(data):\n",
        "  featured_vector=[]\n",
        "  inter_vector = []\n",
        "  for tup in data:\n",
        "    for word in vocab_dict.values():   # getting counts for each vocab word in the tweet\n",
        "      inter_vector.append(tup[1].count(word))\n",
        "    featured_vector.append(inter_vector)\n",
        "    inter_vector=[]\n",
        "  return featured_vector\n",
        "\n",
        "train_vector = create_feature_vectors(filtered_train_data)\n",
        "test_vector  = create_feature_vectors(filtered_test_data)"
      ],
      "execution_count": 121,
      "outputs": []
    },
    {
      "cell_type": "markdown",
      "metadata": {
        "id": "-Hd8VA2FzujA"
      },
      "source": [
        "# **Part1**"
      ]
    },
    {
      "cell_type": "markdown",
      "metadata": {
        "id": "XJd6KMx4lMFY"
      },
      "source": [
        "\n",
        "**Calculate Distance**"
      ]
    },
    {
      "cell_type": "code",
      "metadata": {
        "id": "w56IQVqflLAu"
      },
      "source": [
        "distances = distance.cdist(test_vector,train_vector,'euclidean')\n",
        "distances = np.array(distances)"
      ],
      "execution_count": null,
      "outputs": []
    },
    {
      "cell_type": "markdown",
      "metadata": {
        "id": "H3Ecr8mML2ti"
      },
      "source": [
        "**K-Neighbors**"
      ]
    },
    {
      "cell_type": "code",
      "metadata": {
        "id": "0KjotkPcAmGd"
      },
      "source": [
        "#sorting distances to get the indices of the array\n",
        "sorted_distances = np.argsort(np.array(distances),axis = 1) \n",
        "\n",
        "def select_k(k,vec):\n",
        "  categories = ['positive','negative','neutral']\n",
        "  labels = []\n",
        "  labels_dict={}\n",
        "  if k == 1:\n",
        "    return {training_labels[vec[0]]:1}\n",
        "  for i in range(0,k):\n",
        "    labels.append(training_labels[vec[i]])\n",
        "  for i in categories:\n",
        "    labels_dict[i] = labels.count(i)\n",
        "  if len(labels_dict.values()) != len(set(labels_dict.values())): # if multiple labels have same count recursively call with k-1 until no tie or k=1\n",
        "    return select_k(k-1,vec)\n",
        "  else:\n",
        "    return labels_dict\n",
        "\n",
        "def get_max(labels_dict):\n",
        "  keys = list(labels_dict.keys())\n",
        "  if len(keys) == 1:\n",
        "    return keys[0]\n",
        "  values = list(labels_dict.values())\n",
        "  return keys[values.index(max(values))]\n",
        "  "
      ],
      "execution_count": null,
      "outputs": []
    },
    {
      "cell_type": "markdown",
      "metadata": {
        "id": "hlin_tZ4HuDQ"
      },
      "source": [
        "**Predicting Labels**"
      ]
    },
    {
      "cell_type": "code",
      "metadata": {
        "id": "J_jirHgbHtgP"
      },
      "source": [
        "values_for_k = [1,3,5,7,10]\n",
        "def get_predicted_labels(k):\n",
        "  predicted_labels = []\n",
        "  for row in sorted_distances:\n",
        "    predicted_labels.append(get_max(select_k(k,row))) # get the max count label\n",
        "  return predicted_labels\n",
        "\n",
        "predicted_labels = {}\n",
        "for i in values_for_k:\n",
        "  predicted_labels[i] = get_predicted_labels(i)\n"
      ],
      "execution_count": null,
      "outputs": []
    },
    {
      "cell_type": "markdown",
      "metadata": {
        "id": "TpTRZQRhg9H0"
      },
      "source": [
        "**Performance Metrics**"
      ]
    },
    {
      "cell_type": "code",
      "metadata": {
        "id": "m5Cd4o3Xg8AJ",
        "outputId": "af5bffe4-c95c-4ff4-9feb-114cd86488c5",
        "colab": {
          "base_uri": "https://localhost:8080/",
          "height": 35
        }
      },
      "source": [
        "def get_accuracy_for_k(k):\n",
        "  predicted = predicted_labels[k]\n",
        "  trues = 0\n",
        "  for i in range(0,len(predicted)):\n",
        "    if predicted[i] == testing_labels[i]: #accuracy true_predicted/all_labels\n",
        "      trues +=1\n",
        "  return trues/len(testing_labels) \n",
        "\n",
        "accuracy = {}\n",
        "for i in values_for_k:\n",
        "  accuracy[i] = get_accuracy_for_k(i)\n",
        "\n",
        "print(accuracy)\n"
      ],
      "execution_count": null,
      "outputs": [
        {
          "output_type": "stream",
          "text": [
            "{1: 0.5847312564190346, 3: 0.6196508045190003, 5: 0.6254707292023279, 7: 0.6278671687778158, 10: 0.6340294419719275} 2921\n"
          ],
          "name": "stdout"
        }
      ]
    },
    {
      "cell_type": "code",
      "metadata": {
        "id": "rAvguKqD7GMh",
        "outputId": "3dbb6f07-9812-44e7-8902-15d462d6d33f",
        "colab": {
          "base_uri": "https://localhost:8080/",
          "height": 641
        }
      },
      "source": [
        "def get_confusion_matrix(k):\n",
        "  predicted = predicted_labels[k]\n",
        "  confusion_matrix = np.zeros((3,3))\n",
        "  labels = ['positive','negative','neutral']\n",
        "  #filling diagonal entries\n",
        "  confusion_matrix[0][0] = len([i for i in range(0,len(predicted)) if predicted[i] == 'positive' and testing_labels[i] == 'positive'])\n",
        "  confusion_matrix[1][1] = len([i for i in range(0,len(predicted)) if predicted[i] == 'negative' and testing_labels[i] == 'negative'])\n",
        "  confusion_matrix[2][2] = len([i for i in range(0,len(predicted)) if predicted[i] == 'neutral' and testing_labels[i] == 'neutral'])\n",
        "  #filling remaining entries for positive\n",
        "  confusion_matrix[0][1] = len([i for i in range(0,len(predicted)) if predicted[i] == 'positive' and testing_labels[i] == 'negative'])\n",
        "  confusion_matrix[0][2] = len([i for i in range(0,len(predicted)) if predicted[i] == 'positive' and testing_labels[i] == 'neutral'])\n",
        "  #filling remaining entries for negative\n",
        "  confusion_matrix[1][0] = len([i for i in range(0,len(predicted)) if predicted[i] == 'negative' and testing_labels[i] == 'positive'])\n",
        "  confusion_matrix[1][2] = len([i for i in range(0,len(predicted)) if predicted[i] == 'negative' and testing_labels[i] == 'neutral'])\n",
        "  #filling remaining entries for neutral\n",
        "  confusion_matrix[2][0] = len([i for i in range(0,len(predicted)) if predicted[i] == 'neutral' and testing_labels[i] == 'positive'])\n",
        "  confusion_matrix[2][1] = len([i for i in range(0,len(predicted)) if predicted[i] == 'neutral' and testing_labels[i] == 'negative'])\n",
        "  return confusion_matrix\n",
        "\n",
        "print('positive,negative,neutral')\n",
        "for i in [1,3,5,7,10]:\n",
        "  print('confusion matrix for k = ',i)\n",
        "  print('label sequence :positive,negative,neutral')\n",
        "  print(get_confusion_matrix(i))\n",
        "  print('\\n')\n"
      ],
      "execution_count": null,
      "outputs": [
        {
          "output_type": "stream",
          "text": [
            "positive,negative,neutral\n",
            "confusion matrix for k =  1\n",
            "label sequence :positive,negative,neutral\n",
            "[[ 247.  184.  108.]\n",
            " [ 106. 1117.  163.]\n",
            " [ 119.  533.  344.]]\n",
            "\n",
            "\n",
            "confusion matrix for k =  3\n",
            "label sequence :positive,negative,neutral\n",
            "[[ 261.  146.   90.]\n",
            " [  85. 1177.  153.]\n",
            " [ 126.  511.  372.]]\n",
            "\n",
            "\n",
            "confusion matrix for k =  5\n",
            "label sequence :positive,negative,neutral\n",
            "[[ 263.  149.   86.]\n",
            " [  85. 1183.  148.]\n",
            " [ 124.  502.  381.]]\n",
            "\n",
            "\n",
            "confusion matrix for k =  7\n",
            "label sequence :positive,negative,neutral\n",
            "[[ 263.  119.   73.]\n",
            " [  88. 1195.  166.]\n",
            " [ 121.  520.  376.]]\n",
            "\n",
            "\n",
            "confusion matrix for k =  10\n",
            "label sequence :positive,negative,neutral\n",
            "[[ 258.  104.   67.]\n",
            " [  86. 1199.  153.]\n",
            " [ 128.  531.  395.]]\n",
            "\n",
            "\n"
          ],
          "name": "stdout"
        }
      ]
    },
    {
      "cell_type": "code",
      "metadata": {
        "id": "7avB96w8HKY4",
        "outputId": "68db3627-8c98-42f6-b837-6b0d3fa47f90",
        "colab": {
          "base_uri": "https://localhost:8080/",
          "height": 451
        }
      },
      "source": [
        "def get_macro_precision_n_recall_n_f1(k):\n",
        "  confusion_matrix = get_confusion_matrix(k)\n",
        "  \n",
        "  #getting precisions for all classes\n",
        "  prec_pos = confusion_matrix[0][0]/np.sum(confusion_matrix[0])\n",
        "  prec_neg = confusion_matrix[1][1]/np.sum(confusion_matrix[1])\n",
        "  prec_neu = confusion_matrix[2][2]/np.sum(confusion_matrix[2])\n",
        "  \n",
        "  \n",
        "  #getting recalls for all classes\n",
        "  recal_pos = confusion_matrix[0][0]/np.sum(confusion_matrix,axis=0)[0]\n",
        "  recal_neg = confusion_matrix[1][1]/np.sum(confusion_matrix,axis=0)[1]\n",
        "  recal_neu = confusion_matrix[2][2]/np.sum(confusion_matrix,axis=0)[2]\n",
        "\n",
        "  #getting f1s for all classes\n",
        "  f1_pos =  2 * (prec_pos * recal_pos)/(prec_pos + recal_pos)\n",
        "  f1_neg =  2 * (prec_neg * recal_neg)/(prec_neg + recal_neg)\n",
        "  f1_neu =  2 * (prec_neu * recal_neu)/(prec_neu + recal_neu)\n",
        "\n",
        "  #return macro avg and accuracy\n",
        "  return [(f1_pos+f1_neg+f1_neu)/3, (prec_pos + prec_neg + prec_neu)/3,(recal_pos + recal_neg + recal_neu)/3,get_accuracy_for_k(k)] \n",
        "\n",
        "\n",
        "\n",
        "scores = {}\n",
        "for i in values_for_k:\n",
        "  print('F1-score,Precison,Recall,Accurracy')\n",
        "  print('Macro-avged stats for k=',i)\n",
        "  scores[i] = get_macro_precision_n_recall_n_f1(i)\n",
        "  print(scores[i])\n",
        "  print('\\n') \n",
        "\n",
        "sorted_scores = {}\n",
        "sorted_scores['accuracy'] =[scores[i][3] for i in scores.keys()]\n",
        "sorted_scores['f1-score'] = [scores[i][0] for i in scores.keys()]\n",
        "sorted_scores['precision'] = [scores[i][1] for i in scores.keys()]\n",
        "sorted_scores['recall'] = [scores[i][2] for i in scores.keys()]\n"
      ],
      "execution_count": null,
      "outputs": [
        {
          "output_type": "stream",
          "text": [
            "F1-score,Precison,Recall,Accurracy\n",
            "Macro-avged stats for k= 1\n",
            "[0.5364926263198535, 0.5365179539017749, 0.5639019774437066, 0.5847312564190346]\n",
            "\n",
            "\n",
            "F1-score,Precison,Recall,Accurracy\n",
            "Macro-avged stats for k= 3\n",
            "[0.5737861313426146, 0.57521162960162, 0.5998702602638839, 0.6196508045190003]\n",
            "\n",
            "\n",
            "F1-score,Precison,Recall,Accurracy\n",
            "Macro-avged stats for k= 5\n",
            "[0.580019474493752, 0.5806386554752496, 0.6072512509637971, 0.6254707292023279]\n",
            "\n",
            "\n",
            "F1-score,Precison,Recall,Accurracy\n",
            "Macro-avged stats for k= 7\n",
            "[0.5853995980204703, 0.5908145066282812, 0.6067222489453145, 0.6278671687778158]\n",
            "\n",
            "\n",
            "F1-score,Precison,Recall,Accurracy\n",
            "Macro-avged stats for k= 10\n",
            "[0.5929731388817895, 0.6033194499808208, 0.6142162868406127, 0.6340294419719275]\n",
            "\n",
            "\n"
          ],
          "name": "stdout"
        }
      ]
    },
    {
      "cell_type": "markdown",
      "metadata": {
        "id": "kwZ0hZ7UO4kj"
      },
      "source": [
        "**Performance Plots**"
      ]
    },
    {
      "cell_type": "code",
      "metadata": {
        "id": "H3Ng3L2RMopt",
        "outputId": "8c94f463-3802-4cf8-b758-cc06c4e013da",
        "colab": {
          "base_uri": "https://localhost:8080/",
          "height": 279
        }
      },
      "source": [
        "k = [1,3,5,7,10]\n",
        "plt.plot(k,sorted_scores['accuracy'],label='accuracy')\n",
        "plt.plot(k,sorted_scores['f1-score'],label='f1-score')\n",
        "plt.plot(k,sorted_scores['precision'],label='precision')   # plotting each curve with label\n",
        "plt.plot(k,sorted_scores['recall'],label='recall')\n",
        "plt.locator_params(nbins=5) # adjusting bins to match len(k). no idea y its not working.\n",
        "plt.xlabel('k')\n",
        "plt.ylabel('Macro avg measures')\n",
        "plt.legend()\n",
        "plt.show()\n"
      ],
      "execution_count": null,
      "outputs": [
        {
          "output_type": "display_data",
          "data": {
            "image/png": "[encoded data removed]",
            "text/plain": [
              "<Figure size 432x288 with 1 Axes>"
            ]
          },
          "metadata": {
            "tags": []
          }
        }
      ]
    },
    {
      "cell_type": "markdown",
      "metadata": {
        "id": "03ujPqpdDpuo"
      },
      "source": [
        "#**Part2**"
      ]
    },
    {
      "cell_type": "markdown",
      "metadata": {
        "id": "g---kPPzDsyb"
      },
      "source": [
        "**KNN Using Sklearn**"
      ]
    },
    {
      "cell_type": "code",
      "metadata": {
        "id": "4mnWANSJD6FH"
      },
      "source": [
        "#a factory function to generate models with given k\n",
        "def model_maker(k):\n",
        "  model = knn_classifier(n_neighbors=k,algorithm='brute')\n",
        "  model.fit(np.array(train_vector),np.array(training_labels))\n",
        "  return model"
      ],
      "execution_count": null,
      "outputs": []
    },
    {
      "cell_type": "code",
      "metadata": {
        "id": "furKVLtaFBcS"
      },
      "source": [
        "def predictor():\n",
        "  predictions={}\n",
        "  k = [1,3,5,7,10]\n",
        "  for i in k:\n",
        "    model = model_maker(i)\n",
        "    predictions[i] = model.predict(np.array(test_vector)) # predicting all tweets for each k\n",
        "  return predictions\n",
        "\n",
        "predictions = predictor()"
      ],
      "execution_count": null,
      "outputs": []
    },
    {
      "cell_type": "markdown",
      "metadata": {
        "id": "iDCXqt8fHyqp"
      },
      "source": [
        "**Performance Metrics**"
      ]
    },
    {
      "cell_type": "code",
      "metadata": {
        "id": "nF706AwoH6VM"
      },
      "source": [
        "def get_accuracy():\n",
        "  accuracy = {}\n",
        "  for i in predictions.keys():\n",
        "    accuracy[i] = accuracy_score(np.array(testing_labels),predictions[i])\n",
        "  return accuracy\n",
        "accuracy = get_accuracy()"
      ],
      "execution_count": null,
      "outputs": []
    },
    {
      "cell_type": "code",
      "metadata": {
        "id": "bZoYRktdU9Kw",
        "outputId": "6c7d3736-b1dd-4dc8-a077-698c08dc3156",
        "colab": {
          "base_uri": "https://localhost:8080/",
          "height": 971
        }
      },
      "source": [
        "stats = {}\n",
        "def get_report():\n",
        "  for i in predictions.keys():\n",
        "    print(\"Classification Report for k=\",i)\n",
        "    print(classification_report(np.array(testing_labels),predictions[i],labels=['negative','positive','neutral']))\n",
        "get_report()"
      ],
      "execution_count": null,
      "outputs": [
        {
          "output_type": "stream",
          "text": [
            "Classification Report for k= 1\n",
            "              precision    recall  f1-score   support\n",
            "\n",
            "    negative       0.79      0.60      0.68      1834\n",
            "    positive       0.47      0.49      0.48       472\n",
            "     neutral       0.35      0.59      0.44       615\n",
            "\n",
            "    accuracy                           0.58      2921\n",
            "   macro avg       0.54      0.56      0.53      2921\n",
            "weighted avg       0.65      0.58      0.60      2921\n",
            "\n",
            "Classification Report for k= 3\n",
            "              precision    recall  f1-score   support\n",
            "\n",
            "    negative       0.79      0.69      0.74      1834\n",
            "    positive       0.59      0.55      0.57       472\n",
            "     neutral       0.39      0.55      0.45       615\n",
            "\n",
            "    accuracy                           0.64      2921\n",
            "   macro avg       0.59      0.60      0.59      2921\n",
            "weighted avg       0.67      0.64      0.65      2921\n",
            "\n",
            "Classification Report for k= 5\n",
            "              precision    recall  f1-score   support\n",
            "\n",
            "    negative       0.76      0.73      0.74      1834\n",
            "    positive       0.64      0.52      0.57       472\n",
            "     neutral       0.35      0.44      0.39       615\n",
            "\n",
            "    accuracy                           0.64      2921\n",
            "   macro avg       0.58      0.56      0.57      2921\n",
            "weighted avg       0.65      0.64      0.64      2921\n",
            "\n",
            "Classification Report for k= 7\n",
            "              precision    recall  f1-score   support\n",
            "\n",
            "    negative       0.77      0.74      0.75      1834\n",
            "    positive       0.63      0.50      0.56       472\n",
            "     neutral       0.36      0.46      0.40       615\n",
            "\n",
            "    accuracy                           0.64      2921\n",
            "   macro avg       0.58      0.57      0.57      2921\n",
            "weighted avg       0.66      0.64      0.65      2921\n",
            "\n",
            "Classification Report for k= 10\n",
            "              precision    recall  f1-score   support\n",
            "\n",
            "    negative       0.78      0.75      0.76      1834\n",
            "    positive       0.64      0.53      0.58       472\n",
            "     neutral       0.38      0.47      0.42       615\n",
            "\n",
            "    accuracy                           0.66      2921\n",
            "   macro avg       0.60      0.58      0.59      2921\n",
            "weighted avg       0.67      0.66      0.66      2921\n",
            "\n"
          ],
          "name": "stdout"
        }
      ]
    },
    {
      "cell_type": "code",
      "metadata": {
        "id": "xQO-ph6aeIMw",
        "outputId": "e1a1f596-05fc-45f3-d3d3-13874f46fef0",
        "colab": {
          "base_uri": "https://localhost:8080/",
          "height": 364
        }
      },
      "source": [
        "def get_confusion_mat():\n",
        "  for i in predictions.keys():\n",
        "    print(\"Confusion Matrix for k=\",i)\n",
        "    print(confusion_matrix(np.array(testing_labels),predictions[i],labels=['negative','positive','neutral']))\n",
        "get_confusion_mat()"
      ],
      "execution_count": null,
      "outputs": [
        {
          "output_type": "stream",
          "text": [
            "Confusion Matrix for k= 1\n",
            "[[1103  172  559]\n",
            " [ 121  231  120]\n",
            " [ 166   88  361]]\n",
            "Confusion Matrix for k= 3\n",
            "[[1267  113  454]\n",
            " [ 124  258   90]\n",
            " [ 208   66  341]]\n",
            "Confusion Matrix for k= 5\n",
            "[[1338   82  414]\n",
            " [ 135  244   93]\n",
            " [ 289   53  273]]\n",
            "Confusion Matrix for k= 7\n",
            "[[1354   89  391]\n",
            " [ 122  237  113]\n",
            " [ 283   52  280]]\n",
            "Confusion Matrix for k= 10\n",
            "[[1375   83  376]\n",
            " [ 125  249   98]\n",
            " [ 266   59  290]]\n"
          ],
          "name": "stdout"
        }
      ]
    },
    {
      "cell_type": "markdown",
      "metadata": {
        "id": "y7F4s896f9rP"
      },
      "source": [
        "**Performance Plots**"
      ]
    },
    {
      "cell_type": "code",
      "metadata": {
        "id": "4aFwaF_Yf9Bh",
        "outputId": "0ea08aca-3dc1-4444-f8d7-9fae2129de2d",
        "colab": {
          "base_uri": "https://localhost:8080/",
          "height": 279
        }
      },
      "source": [
        "#getting all stats in a grouped form\n",
        "def get_stats():\n",
        "  stats= []\n",
        "  stats_dict={}\n",
        "  k = [1,3,5,7,10]\n",
        "  for i in k:\n",
        "    x = classification_report(np.array(testing_labels),predictions[i],output_dict = True)\n",
        "    stats.append([x['accuracy'],x['macro avg']['f1-score'],x['macro avg']['precision'],x['macro avg']['recall']])\n",
        "  stats_dict['accuracy'] = [i[0] for i in stats]\n",
        "  stats_dict['f1-score'] = [i[1] for i in stats]\n",
        "  stats_dict['precision'] = [i[2] for i in stats]\n",
        "  stats_dict['recall'] = [i[3] for i in stats]\n",
        "\n",
        "  return stats_dict\n",
        "\n",
        "def plot():\n",
        "  k = [1,3,5,7,10]\n",
        "  stats = get_stats()\n",
        "  plt.plot(k,stats['accuracy'],label='accuracy')\n",
        "  plt.plot(k,stats['f1-score'],label='f1-score')\n",
        "  plt.plot(k,stats['precision'],label='precision')\n",
        "  plt.plot(k,stats['recall'],label='recall')\n",
        "  plt.locator_params(nbins=5)\n",
        "  plt.xlabel('k')\n",
        "  plt.ylabel('Macro avg measures')\n",
        "  plt.legend()\n",
        "  \n",
        "plot()"
      ],
      "execution_count": null,
      "outputs": [
        {
          "output_type": "display_data",
          "data": {
            "image/png": "[encoded data removed]",
            "text/plain": [
              "<Figure size 432x288 with 1 Axes>"
            ]
          },
          "metadata": {
            "tags": []
          }
        }
      ]
    },
    {
      "cell_type": "markdown",
      "metadata": {
        "id": "pz_vj64_pvtv"
      },
      "source": [
        "#**Part3**"
      ]
    },
    {
      "cell_type": "markdown",
      "metadata": {
        "id": "35ZpS6ADPC6a"
      },
      "source": [
        "**Loading pre-trained Vectors**\n"
      ]
    },
    {
      "cell_type": "code",
      "metadata": {
        "id": "D4WRi0pJ260m",
        "outputId": "49498c46-9049-45b8-88a1-0b92508f75a4",
        "colab": {
          "base_uri": "https://localhost:8080/",
          "height": 72
        }
      },
      "source": [
        "word2vec = KeyedVectors.load_word2vec_format(\"/content/drive/My Drive/ass1/GoogleNews-vectors-negative300.bin.gz\", binary=True)"
      ],
      "execution_count": 122,
      "outputs": [
        {
          "output_type": "stream",
          "text": [
            "/usr/local/lib/python3.6/dist-packages/smart_open/smart_open_lib.py:252: UserWarning: This function is deprecated, use smart_open.open instead. See the migration notes for details: https://github.com/RaRe-Technologies/smart_open/blob/master/README.rst#migrating-to-the-new-open-function\n",
            "  'See the migration notes for details: %s' % _MIGRATION_NOTES_URL\n"
          ],
          "name": "stderr"
        }
      ]
    },
    {
      "cell_type": "markdown",
      "metadata": {
        "id": "rKonq3xOQGDC"
      },
      "source": [
        "**Extracting features**"
      ]
    },
    {
      "cell_type": "code",
      "metadata": {
        "id": "Bpjw5fIaPU4_",
        "outputId": "d356c4b5-68e5-42d9-dda8-44a389e9783a",
        "colab": {
          "base_uri": "https://localhost:8080/",
          "height": 52
        }
      },
      "source": [
        "from tqdm import tqdm #library to prompt progress\n",
        "def extract_features(data):\n",
        "  final_vector = []\n",
        "  for tup in tqdm(data):\n",
        "    x = [word for word in tup[1] if word in word2vec.vocab]\n",
        "    if not x:\n",
        "      final_vector.append(np.zeros(300))\n",
        "    else:\n",
        "      final_vector.append(np.mean(word2vec[x],axis=0)) #averaging over all words along x axis to get a consistent 300 dimensional vector for each tweet\n",
        "  return np.array(final_vector)\n",
        "\n",
        "train_vector2 = extract_features(filtered_train_data).reshape(len(filtered_train_data),300)\n",
        "test_vector2  = extract_features(filtered_test_data).reshape(len(filtered_test_data),300)"
      ],
      "execution_count": 123,
      "outputs": [
        {
          "output_type": "stream",
          "text": [
            "100%|██████████| 11680/11680 [00:00<00:00, 15389.65it/s]\n",
            "100%|██████████| 2921/2921 [00:00<00:00, 16496.95it/s]\n"
          ],
          "name": "stderr"
        }
      ]
    },
    {
      "cell_type": "markdown",
      "metadata": {
        "id": "vW31XoVtDyS0"
      },
      "source": [
        "**PART1 Implementation**"
      ]
    },
    {
      "cell_type": "code",
      "metadata": {
        "id": "uHhldRG4D5G-"
      },
      "source": [
        "#calculating and sorting euclidean distances\n",
        "distances = distance.cdist(np.array(test_vector2),np.array(train_vector2),'euclidean')\n",
        "sorted_distances = np.argsort(np.array(distances),axis = 1) "
      ],
      "execution_count": 124,
      "outputs": []
    },
    {
      "cell_type": "code",
      "metadata": {
        "id": "6Cwso_eOCTk6"
      },
      "source": [
        "#get predicted labels for each k\n",
        "values_for_k = [1,3,5,7,10]\n",
        "predicted_labels = {}\n",
        "for i in values_for_k:\n",
        "  predicted_labels[i] = get_predicted_labels(i)"
      ],
      "execution_count": 125,
      "outputs": []
    },
    {
      "cell_type": "code",
      "metadata": {
        "id": "PrKKK78EGY3Y",
        "outputId": "a2e0afe2-16af-47f8-f856-bcc2d452bdc8",
        "colab": {
          "base_uri": "https://localhost:8080/",
          "height": 641
        }
      },
      "source": [
        "#confusion matrix\n",
        "print('positive,negative,neutral')\n",
        "for i in [1,3,5,7,10]:\n",
        "  print('confusion matrix for k = ',i)\n",
        "  print('label sequence :positive,negative,neutral')\n",
        "  print(get_confusion_matrix(i))\n",
        "  print('\\n')"
      ],
      "execution_count": 127,
      "outputs": [
        {
          "output_type": "stream",
          "text": [
            "positive,negative,neutral\n",
            "confusion matrix for k =  1\n",
            "label sequence :positive,negative,neutral\n",
            "[[ 260.  120.   90.]\n",
            " [ 123. 1536.  262.]\n",
            " [  89.  178.  263.]]\n",
            "\n",
            "\n",
            "confusion matrix for k =  3\n",
            "label sequence :positive,negative,neutral\n",
            "[[ 258.   68.   69.]\n",
            " [ 151. 1661.  322.]\n",
            " [  63.  105.  224.]]\n",
            "\n",
            "\n",
            "confusion matrix for k =  5\n",
            "label sequence :positive,negative,neutral\n",
            "[[ 258.   54.   64.]\n",
            " [ 164. 1698.  345.]\n",
            " [  50.   82.  206.]]\n",
            "\n",
            "\n",
            "confusion matrix for k =  7\n",
            "label sequence :positive,negative,neutral\n",
            "[[ 252.   40.   50.]\n",
            " [ 184. 1739.  374.]\n",
            " [  36.   55.  191.]]\n",
            "\n",
            "\n",
            "confusion matrix for k =  10\n",
            "label sequence :positive,negative,neutral\n",
            "[[ 255.   36.   45.]\n",
            " [ 184. 1761.  398.]\n",
            " [  33.   37.  172.]]\n",
            "\n",
            "\n"
          ],
          "name": "stdout"
        }
      ]
    },
    {
      "cell_type": "code",
      "metadata": {
        "id": "vbfGNgbVXeiK",
        "outputId": "41520a26-c08f-428f-cea0-49ce1e27755f",
        "colab": {
          "base_uri": "https://localhost:8080/",
          "height": 451
        }
      },
      "source": [
        "scores = {}\n",
        "for i in values_for_k:\n",
        "  print('F1-score,Precison,Recall,Accurracy')\n",
        "  print('Macro-avged stats for k=',i)\n",
        "  scores[i] = get_macro_precision_n_recall_n_f1(i)\n",
        "  print(scores[i])\n",
        "  print('\\n') \n",
        "\n",
        "sorted_scores = {}\n",
        "sorted_scores['accuracy'] =[scores[i][3] for i in scores.keys()]\n",
        "sorted_scores['f1-score'] = [scores[i][0] for i in scores.keys()]\n",
        "sorted_scores['precision'] = [scores[i][1] for i in scores.keys()]\n",
        "sorted_scores['recall'] = [scores[i][2] for i in scores.keys()]"
      ],
      "execution_count": 129,
      "outputs": [
        {
          "output_type": "stream",
          "text": [
            "F1-score,Precison,Recall,Accurracy\n",
            "Macro-avged stats for k= 1\n",
            "[0.6098382730586269, 0.6163338182300983, 0.6053344551522146, 0.7048955837042109]\n",
            "\n",
            "\n",
            "F1-score,Precison,Recall,Accurracy\n",
            "Macro-avged stats for k= 3\n",
            "[0.6257463631306309, 0.6676478812848381, 0.6055028256601994, 0.733652858610065]\n",
            "\n",
            "\n",
            "F1-score,Precison,Recall,Accurracy\n",
            "Macro-avged stats for k= 5\n",
            "[0.6270652005837197, 0.6883359513866004, 0.6024715554347381, 0.7401574803149606]\n",
            "\n",
            "\n",
            "F1-score,Precison,Recall,Accurracy\n",
            "Macro-avged stats for k= 7\n",
            "[0.6289851681534925, 0.7237405049101108, 0.5975560216944423, 0.7470044505306402]\n",
            "\n",
            "\n",
            "F1-score,Precison,Recall,Accurracy\n",
            "Macro-avged stats for k= 10\n",
            "[0.6252590812443561, 0.7404242950817855, 0.5933751087644881, 0.749058541595344]\n",
            "\n",
            "\n"
          ],
          "name": "stdout"
        }
      ]
    },
    {
      "cell_type": "code",
      "metadata": {
        "id": "FpSzxG90XlH4",
        "outputId": "7240608d-e16d-4988-c6c8-1793adbed03c",
        "colab": {
          "base_uri": "https://localhost:8080/",
          "height": 279
        }
      },
      "source": [
        "k = [1,3,5,7,10]\n",
        "plt.plot(k,sorted_scores['accuracy'],label='accuracy')\n",
        "plt.plot(k,sorted_scores['f1-score'],label='f1-score')\n",
        "plt.plot(k,sorted_scores['precision'],label='precision')\n",
        "plt.plot(k,sorted_scores['recall'],label='recall')\n",
        "plt.locator_params(nbins=5)\n",
        "plt.xlabel('k')\n",
        "plt.ylabel('Macro avg measures')\n",
        "plt.legend()\n",
        "plt.show()"
      ],
      "execution_count": 130,
      "outputs": [
        {
          "output_type": "display_data",
          "data": {
            "image/png": "[encoded data removed]",
            "text/plain": [
              "<Figure size 432x288 with 1 Axes>"
            ]
          },
          "metadata": {
            "tags": [],
            "needs_background": "light"
          }
        }
      ]
    },
    {
      "cell_type": "markdown",
      "metadata": {
        "id": "aOFVdLFkGd34"
      },
      "source": [
        "**PART2 Implementation**"
      ]
    },
    {
      "cell_type": "code",
      "metadata": {
        "id": "mGWZy4qKHQd2"
      },
      "source": [
        "def model_maker(k):\n",
        "  model = knn_classifier(n_neighbors=k,algorithm='brute')\n",
        "  model.fit(np.array(train_vector2),np.array(training_labels))\n",
        "  return model"
      ],
      "execution_count": null,
      "outputs": []
    },
    {
      "cell_type": "code",
      "metadata": {
        "id": "VNQlGno0HQeF"
      },
      "source": [
        "def predictor():\n",
        "  predictions={}\n",
        "  k = [1,3,5,7,10]\n",
        "  for i in k:\n",
        "    model = model_maker(i)\n",
        "    predictions[i] = model.predict(np.array(test_vector2))\n",
        "  return predictions\n",
        "\n",
        "predictions = predictor()"
      ],
      "execution_count": null,
      "outputs": []
    },
    {
      "cell_type": "code",
      "metadata": {
        "id": "cHnpeZdgHYUD"
      },
      "source": [
        "get_report()"
      ],
      "execution_count": null,
      "outputs": []
    },
    {
      "cell_type": "code",
      "metadata": {
        "id": "rlhaKUKtIH5G"
      },
      "source": [
        "get_confusion_mat()"
      ],
      "execution_count": null,
      "outputs": []
    },
    {
      "cell_type": "code",
      "metadata": {
        "id": "Lo30cEb_Jwbb"
      },
      "source": [
        "plot()"
      ],
      "execution_count": null,
      "outputs": []
    }
  ]
}